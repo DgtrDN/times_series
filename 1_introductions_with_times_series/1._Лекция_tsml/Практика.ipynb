{
 "cells": [
  {
   "cell_type": "code",
   "execution_count": 1,
   "metadata": {},
   "outputs": [],
   "source": [
    "import pandas as pd"
   ]
  },
  {
   "cell_type": "code",
   "execution_count": 2,
   "metadata": {},
   "outputs": [],
   "source": [
    "sales_of_company_x = pd.read_csv(\"Series/monthly-sales-of-company-x-jan-6.csv\")\n",
    "robberies_in_boston = pd.read_csv(\"Series/monthly-boston-armed-robberies-j.csv\")\n",
    "airlines_passengers = pd.read_csv(\"Series/international-airline-passengers.csv\")\n",
    "mean_monthly_temp = pd.read_csv(\"Series/mean-monthly-air-temperature-deg.csv\")\n",
    "dowjones_closing = pd.read_csv(\"Series/weekly-closings-of-the-dowjones-.csv\")\n",
    "female_births = pd.read_csv(\"Series/daily-total-female-births-in-cal.csv\")"
   ]
  },
  {
   "cell_type": "markdown",
   "metadata": {},
   "source": [
    "# Отображение графика"
   ]
  },
  {
   "cell_type": "code",
   "execution_count": 3,
   "metadata": {},
   "outputs": [],
   "source": [
    "import matplotlib.pyplot as plt\n",
    "%matplotlib inline"
   ]
  },
  {
   "cell_type": "code",
   "execution_count": 4,
   "metadata": {},
   "outputs": [],
   "source": [
    "all_series = {\n",
    "    \"Monthly sales of company X\": sales_of_company_x[\"Count\"],\n",
    "    \"Monthly Boston armed robberies\": robberies_in_boston[\"Count\"],\n",
    "    \"International airline passengers: monthly totals in thousands\": airlines_passengers[\"Count\"],\n",
    "    \"Mean monthly air temperature (Deg. F) Nottingham Castle\": mean_monthly_temp[\"Deg\"],\n",
    "    \"Weekly closings of the Dow-Jones industrial average\": dowjones_closing[\"Close\"],\n",
    "    \"Daily total female births in California\": female_births[\"Count\"]\n",
    "}"
   ]
  },
  {
   "cell_type": "code",
   "execution_count": 5,
   "metadata": {},
   "outputs": [],
   "source": [
    "with plt.style.context('bmh'):\n",
    "    plt.figure(figsize=(16, 8))\n",
    "    layout = (3, 2)\n",
    "    for i, key in enumerate(all_series.keys()):\n",
    "        x = i % 2\n",
    "        y = int((i - x) / 2)\n",
    "        \n",
    "        ts_ax = plt.subplot2grid(layout, (y, x))\n",
    "        all_series[key].plot(ax=ts_ax, color='blue')\n",
    "        ts_ax.set_title(key)\n",
    "        \n",
    "    plt.tight_layout()"
   ]
  },
  {
   "cell_type": "markdown",
   "metadata": {},
   "source": [
    "# Ищем сезонность"
   ]
  },
  {
   "cell_type": "code",
   "execution_count": 6,
   "metadata": {},
   "outputs": [],
   "source": [
    "def plot_ts_and_points(ts, start_point, step):\n",
    "    new_series = [None for i in range(len(ts))]\n",
    "    for i in range(len(ts)):\n",
    "        pos = start_point + step * i\n",
    "        if pos >= len(ts):\n",
    "            break\n",
    "        new_series[pos] = ts[pos]\n",
    "    new_series = pd.Series(new_series)\n",
    "    \n",
    "    with plt.style.context('bmh'):\n",
    "        plt.figure(figsize=(16, 8))\n",
    "        ts_ax = plt.axes()\n",
    "        ts.plot(ax=ts_ax, color='blue')\n",
    "        new_series.plot(ax=ts_ax, style='ro')"
   ]
  },
  {
   "cell_type": "code",
   "execution_count": 7,
   "metadata": {},
   "outputs": [],
   "source": [
    "plot_ts_and_points(robberies_in_boston['Count'], 2, 4)"
   ]
  },
  {
   "cell_type": "markdown",
   "metadata": {},
   "source": [
    "# Нормализуем дисперсию"
   ]
  },
  {
   "cell_type": "code",
   "execution_count": 8,
   "metadata": {},
   "outputs": [],
   "source": [
    "from scipy.stats import boxcox"
   ]
  },
  {
   "cell_type": "code",
   "execution_count": 9,
   "metadata": {},
   "outputs": [],
   "source": [
    "series = boxcox(all_series[\"International airline passengers: monthly totals in thousands\"], 0)"
   ]
  },
  {
   "cell_type": "code",
   "execution_count": 10,
   "metadata": {},
   "outputs": [],
   "source": [
    "with plt.style.context('bmh'):\n",
    "        plt.figure(figsize=(16, 8))\n",
    "        plt.plot(series, color='blue')"
   ]
  },
  {
   "cell_type": "markdown",
   "metadata": {},
   "source": [
    "# Дифференцируем "
   ]
  },
  {
   "cell_type": "code",
   "execution_count": 11,
   "metadata": {},
   "outputs": [],
   "source": [
    "import numpy as np"
   ]
  },
  {
   "cell_type": "code",
   "execution_count": 12,
   "metadata": {},
   "outputs": [],
   "source": [
    "series = np.diff(series, 1)"
   ]
  },
  {
   "cell_type": "code",
   "execution_count": 13,
   "metadata": {},
   "outputs": [],
   "source": [
    "with plt.style.context('bmh'):\n",
    "        plt.figure(figsize=(16, 8))\n",
    "        plt.plot(series, color='blue')"
   ]
  },
  {
   "cell_type": "markdown",
   "metadata": {},
   "source": [
    "# Тест Дики-Фуллера "
   ]
  },
  {
   "cell_type": "code",
   "execution_count": 14,
   "metadata": {},
   "outputs": [],
   "source": [
    "from statsmodels.tsa.stattools import adfuller"
   ]
  },
  {
   "cell_type": "code",
   "execution_count": 15,
   "metadata": {},
   "outputs": [],
   "source": [
    "################\n",
    " # Dickey-Fuller\n",
    "##################\n",
    "def test_stationarity(timeseries):\n",
    "    print('Results of Dickey-Fuller Test:')\n",
    "    dftest = adfuller(timeseries, autolag='AIC')\n",
    "    dfoutput = pd.Series(dftest[0:4], index=['Test Statistic', 'p-value', '#Lags Used', 'Number of Observations Used'])\n",
    "    for [key, value] in dftest[4].items():\n",
    "        dfoutput['Critical Value (%s)' % key] = value\n",
    "    print(dfoutput)"
   ]
  },
  {
   "cell_type": "code",
   "execution_count": 16,
   "metadata": {},
   "outputs": [
    {
     "name": "stdout",
     "output_type": "stream",
     "text": [
      "Results of Dickey-Fuller Test:\n",
      "Test Statistic                  -2.717131\n",
      "p-value                          0.071121\n",
      "#Lags Used                      14.000000\n",
      "Number of Observations Used    128.000000\n",
      "Critical Value (1%)             -3.482501\n",
      "Critical Value (5%)             -2.884398\n",
      "Critical Value (10%)            -2.578960\n",
      "dtype: float64\n"
     ]
    }
   ],
   "source": [
    "test_stationarity(series)"
   ]
  },
  {
   "cell_type": "code",
   "execution_count": 17,
   "metadata": {},
   "outputs": [
    {
     "name": "stdout",
     "output_type": "stream",
     "text": [
      "Results of Dickey-Fuller Test:\n",
      "Test Statistic                   0.815369\n",
      "p-value                          0.991880\n",
      "#Lags Used                      13.000000\n",
      "Number of Observations Used    130.000000\n",
      "Critical Value (1%)             -3.481682\n",
      "Critical Value (5%)             -2.884042\n",
      "Critical Value (10%)            -2.578770\n",
      "dtype: float64\n"
     ]
    }
   ],
   "source": [
    "test_stationarity(all_series[\"International airline passengers: monthly totals in thousands\"])"
   ]
  },
  {
   "cell_type": "markdown",
   "metadata": {},
   "source": [
    "# Коррелограммы"
   ]
  },
  {
   "cell_type": "code",
   "execution_count": 18,
   "metadata": {},
   "outputs": [],
   "source": [
    "import statsmodels.api as sm\n",
    "import statsmodels.tsa.api as smt"
   ]
  },
  {
   "cell_type": "code",
   "execution_count": 19,
   "metadata": {},
   "outputs": [],
   "source": [
    "def tsplot(y, lags=None, figsize=(14, 8), style='bmh'):\n",
    "    if not isinstance(y, pd.Series):\n",
    "        y = pd.Series(y)\n",
    "    with plt.style.context(style):\n",
    "        plt.figure(figsize=figsize)\n",
    "        layout = (4, 1)\n",
    "        ts_ax = plt.subplot2grid(layout, (0, 0), rowspan=2)\n",
    "        acf_ax = plt.subplot2grid(layout, (2, 0))\n",
    "        pacf_ax = plt.subplot2grid(layout, (3, 0))\n",
    "\n",
    "        y.plot(ax=ts_ax, color='blue', label='Or')\n",
    "        ts_ax.set_title('Original')\n",
    "\n",
    "        smt.graphics.plot_acf(y, lags=lags, ax=acf_ax, alpha=0.05)\n",
    "        smt.graphics.plot_pacf(y, lags=lags, ax=pacf_ax, alpha=0.05)\n",
    "\n",
    "        plt.tight_layout()\n",
    "    return"
   ]
  },
  {
   "cell_type": "code",
   "execution_count": 20,
   "metadata": {},
   "outputs": [],
   "source": [
    "tsplot(series)"
   ]
  },
  {
   "cell_type": "code",
   "execution_count": 21,
   "metadata": {},
   "outputs": [],
   "source": [
    "tsplot(all_series[\"International airline passengers: monthly totals in thousands\"])"
   ]
  }
 ],
 "metadata": {
  "kernelspec": {
   "display_name": "PyCharmMiscProject",
   "language": "python",
   "name": "python3"
  },
  "language_info": {
   "codemirror_mode": {
    "name": "ipython",
    "version": 3
   },
   "file_extension": ".py",
   "mimetype": "text/x-python",
   "name": "python",
   "nbconvert_exporter": "python",
   "pygments_lexer": "ipython3",
   "version": "3.12.9"
  }
 },
 "nbformat": 4,
 "nbformat_minor": 2
}
